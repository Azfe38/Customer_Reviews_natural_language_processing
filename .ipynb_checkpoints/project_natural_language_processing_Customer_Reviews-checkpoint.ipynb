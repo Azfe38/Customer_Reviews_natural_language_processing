{
 "cells": [
  {
   "cell_type": "code",
   "execution_count": 1,
   "metadata": {},
   "outputs": [],
   "source": [
    "import numpy as np\n",
    "import pandas as pd\n",
    "from tensorflow.python.keras.models import Sequential\n",
    "from tensorflow.python.keras.layers import Dense, Embedding, GRU ,LSTM\n",
    "from tensorflow.python.keras.optimizers import Adam\n",
    "from tensorflow.python.keras.preprocessing.text import Tokenizer\n",
    "from tensorflow.python.keras.preprocessing.sequence import pad_sequences\n",
    "from sklearn.linear_model import LogisticRegression\n",
    "from sklearn.naive_bayes import MultinomialNB\n",
    "from tensorflow.python.keras.models import model_from_json\n",
    "import pickle\n",
    "from random import shuffle\n",
    "from sklearn.model_selection import train_test_split"
   ]
  },
  {
   "cell_type": "code",
   "execution_count": 2,
   "metadata": {},
   "outputs": [
    {
     "data": {
      "text/html": [
       "<div>\n",
       "<style scoped>\n",
       "    .dataframe tbody tr th:only-of-type {\n",
       "        vertical-align: middle;\n",
       "    }\n",
       "\n",
       "    .dataframe tbody tr th {\n",
       "        vertical-align: top;\n",
       "    }\n",
       "\n",
       "    .dataframe thead th {\n",
       "        text-align: right;\n",
       "    }\n",
       "</style>\n",
       "<table border=\"1\" class=\"dataframe\">\n",
       "  <thead>\n",
       "    <tr style=\"text-align: right;\">\n",
       "      <th></th>\n",
       "      <th>Rating</th>\n",
       "      <th>Review</th>\n",
       "    </tr>\n",
       "  </thead>\n",
       "  <tbody>\n",
       "    <tr>\n",
       "      <th>0</th>\n",
       "      <td>1</td>\n",
       "      <td>3 yıldır tık demedi. :)</td>\n",
       "    </tr>\n",
       "    <tr>\n",
       "      <th>1</th>\n",
       "      <td>1</td>\n",
       "      <td>3 yıldır kullanıyorum müthiş</td>\n",
       "    </tr>\n",
       "    <tr>\n",
       "      <th>2</th>\n",
       "      <td>1</td>\n",
       "      <td>Ürün bugün elime geçti çok fazla inceleme fırs...</td>\n",
       "    </tr>\n",
       "    <tr>\n",
       "      <th>3</th>\n",
       "      <td>1</td>\n",
       "      <td>Almaya karar verdim. Hemencecik geldi. Keyifle...</td>\n",
       "    </tr>\n",
       "    <tr>\n",
       "      <th>4</th>\n",
       "      <td>1</td>\n",
       "      <td>Günlük kullanımınızı çok çok iyi karsılıyor kı...</td>\n",
       "    </tr>\n",
       "    <tr>\n",
       "      <th>5</th>\n",
       "      <td>1</td>\n",
       "      <td>gayet güzel</td>\n",
       "    </tr>\n",
       "    <tr>\n",
       "      <th>6</th>\n",
       "      <td>1</td>\n",
       "      <td>Çok kaliteli bir ürün ve fiyatı da uygun. Uzun...</td>\n",
       "    </tr>\n",
       "    <tr>\n",
       "      <th>7</th>\n",
       "      <td>1</td>\n",
       "      <td>yaklaşık 5 senedir kullanıyorum. defalarca düş...</td>\n",
       "    </tr>\n",
       "    <tr>\n",
       "      <th>8</th>\n",
       "      <td>1</td>\n",
       "      <td>Ürün günlük kullanım için çok uygun. Ürünle bi...</td>\n",
       "    </tr>\n",
       "    <tr>\n",
       "      <th>9</th>\n",
       "      <td>1</td>\n",
       "      <td>Ürünü bir arkadaşım 2009 yılında hediye olarak...</td>\n",
       "    </tr>\n",
       "    <tr>\n",
       "      <th>10</th>\n",
       "      <td>1</td>\n",
       "      <td>1 gün gibi kısa bir sürede elime geçti. Ve bu ...</td>\n",
       "    </tr>\n",
       "    <tr>\n",
       "      <th>11</th>\n",
       "      <td>1</td>\n",
       "      <td>fiyat fayda  oranına göre çok iyi bir ürün</td>\n",
       "    </tr>\n",
       "    <tr>\n",
       "      <th>12</th>\n",
       "      <td>1</td>\n",
       "      <td>Güzel kullanışlı bir ürün. Herhangi bir proble...</td>\n",
       "    </tr>\n",
       "    <tr>\n",
       "      <th>13</th>\n",
       "      <td>1</td>\n",
       "      <td>Oyun oynamayacaklar için gayet güzel bir mouse</td>\n",
       "    </tr>\n",
       "    <tr>\n",
       "      <th>14</th>\n",
       "      <td>1</td>\n",
       "      <td>Ürünü yılladır kullanıyoruz, fiyat kalite ve p...</td>\n",
       "    </tr>\n",
       "    <tr>\n",
       "      <th>15</th>\n",
       "      <td>1</td>\n",
       "      <td>Hoş ve kaliteli bir mouse. Leptopla kullanım i...</td>\n",
       "    </tr>\n",
       "    <tr>\n",
       "      <th>16</th>\n",
       "      <td>1</td>\n",
       "      <td>Urunu begendik</td>\n",
       "    </tr>\n",
       "    <tr>\n",
       "      <th>17</th>\n",
       "      <td>1</td>\n",
       "      <td>Ürünü yorumlara bakarak aldım iyi ki de almışı...</td>\n",
       "    </tr>\n",
       "    <tr>\n",
       "      <th>18</th>\n",
       "      <td>1</td>\n",
       "      <td>Ürün süper kalitede değil, malzeme açısından a...</td>\n",
       "    </tr>\n",
       "    <tr>\n",
       "      <th>19</th>\n",
       "      <td>1</td>\n",
       "      <td>sağlam ve dayanıklı bir ürün herkese tavsiye e...</td>\n",
       "    </tr>\n",
       "    <tr>\n",
       "      <th>20</th>\n",
       "      <td>1</td>\n",
       "      <td>Çok iyi</td>\n",
       "    </tr>\n",
       "    <tr>\n",
       "      <th>21</th>\n",
       "      <td>1</td>\n",
       "      <td>Ürün gayet güzel Kısa surede elime geçti teşek...</td>\n",
       "    </tr>\n",
       "    <tr>\n",
       "      <th>22</th>\n",
       "      <td>1</td>\n",
       "      <td>Ürünü almadan önce yorumları okuduğumda çok kı...</td>\n",
       "    </tr>\n",
       "    <tr>\n",
       "      <th>23</th>\n",
       "      <td>1</td>\n",
       "      <td>Ürün bir günde elime geçti. Hepsiburada'ya teş...</td>\n",
       "    </tr>\n",
       "    <tr>\n",
       "      <th>24</th>\n",
       "      <td>1</td>\n",
       "      <td>Çok güzel bir mouse. Hem ele oturuyor hem çok ...</td>\n",
       "    </tr>\n",
       "    <tr>\n",
       "      <th>25</th>\n",
       "      <td>1</td>\n",
       "      <td>birçok mouse kullandım anca logitech bu konuda...</td>\n",
       "    </tr>\n",
       "    <tr>\n",
       "      <th>26</th>\n",
       "      <td>1</td>\n",
       "      <td>Bu fare ve bir üst modelinden kendime, arkadaş...</td>\n",
       "    </tr>\n",
       "    <tr>\n",
       "      <th>27</th>\n",
       "      <td>1</td>\n",
       "      <td>halıda koltukta yerde her yerde çekiyor evet b...</td>\n",
       "    </tr>\n",
       "    <tr>\n",
       "      <th>28</th>\n",
       "      <td>1</td>\n",
       "      <td>Hatırlıyorum üni 2de aldım bir tane kırmızı lo...</td>\n",
       "    </tr>\n",
       "    <tr>\n",
       "      <th>29</th>\n",
       "      <td>1</td>\n",
       "      <td>Logitech her zamanki gibi kaliteli.</td>\n",
       "    </tr>\n",
       "    <tr>\n",
       "      <th>...</th>\n",
       "      <td>...</td>\n",
       "      <td>...</td>\n",
       "    </tr>\n",
       "    <tr>\n",
       "      <th>27322</th>\n",
       "      <td>0</td>\n",
       "      <td>ürün z5 ile uyumlu değil, ürünün tanıtıcı başl...</td>\n",
       "    </tr>\n",
       "    <tr>\n",
       "      <th>27323</th>\n",
       "      <td>0</td>\n",
       "      <td>Kablosuna hafif dokunmada şarj kesiliyor. Mıkn...</td>\n",
       "    </tr>\n",
       "    <tr>\n",
       "      <th>27324</th>\n",
       "      <td>0</td>\n",
       "      <td>fena değil ama tam oturmuyor . şarjı engelleye...</td>\n",
       "    </tr>\n",
       "    <tr>\n",
       "      <th>27325</th>\n",
       "      <td>0</td>\n",
       "      <td>Ürünü 10 gün önce sipariş ettim ve cihazımı ik...</td>\n",
       "    </tr>\n",
       "    <tr>\n",
       "      <th>27326</th>\n",
       "      <td>0</td>\n",
       "      <td>Kablo kullanıma bağlı olarak çabuk eskidi.  Öz...</td>\n",
       "    </tr>\n",
       "    <tr>\n",
       "      <th>27327</th>\n",
       "      <td>0</td>\n",
       "      <td>mıknatıs çok iyi. şarj süreside iyi. ama 1 ayd...</td>\n",
       "    </tr>\n",
       "    <tr>\n",
       "      <th>27328</th>\n",
       "      <td>0</td>\n",
       "      <td>yorumlara bakarak aldım ama telefonu kullanırk...</td>\n",
       "    </tr>\n",
       "    <tr>\n",
       "      <th>27329</th>\n",
       "      <td>0</td>\n",
       "      <td>İlk birkaç gün iyiydi ancak sonradan saçmalama...</td>\n",
       "    </tr>\n",
       "    <tr>\n",
       "      <th>27330</th>\n",
       "      <td>0</td>\n",
       "      <td>ürün sorunsuz elime ulaştı bir sıkıntı yok anc...</td>\n",
       "    </tr>\n",
       "    <tr>\n",
       "      <th>27331</th>\n",
       "      <td>0</td>\n",
       "      <td>Mıknatısın tutuşu güzel fakat elde kullanırken...</td>\n",
       "    </tr>\n",
       "    <tr>\n",
       "      <th>27332</th>\n",
       "      <td>0</td>\n",
       "      <td>berbat</td>\n",
       "    </tr>\n",
       "    <tr>\n",
       "      <th>27333</th>\n",
       "      <td>0</td>\n",
       "      <td>Telefonun Şarjı çabuk bitiyor ayrica tipi bozu...</td>\n",
       "    </tr>\n",
       "    <tr>\n",
       "      <th>27334</th>\n",
       "      <td>0</td>\n",
       "      <td>KESINLIKLE TAVSIYE etmiyorum telefonun hafızas...</td>\n",
       "    </tr>\n",
       "    <tr>\n",
       "      <th>27335</th>\n",
       "      <td>0</td>\n",
       "      <td>ÜRÜN VAAD EDİLEN TARİHTE KARGOYA VERİLMİYOR Dİ...</td>\n",
       "    </tr>\n",
       "    <tr>\n",
       "      <th>27336</th>\n",
       "      <td>0</td>\n",
       "      <td>çok kötü iade ettim</td>\n",
       "    </tr>\n",
       "    <tr>\n",
       "      <th>27337</th>\n",
       "      <td>0</td>\n",
       "      <td>Telefon bugün elimize geçti.Ekran kaygan değil...</td>\n",
       "    </tr>\n",
       "    <tr>\n",
       "      <th>27338</th>\n",
       "      <td>0</td>\n",
       "      <td>sipariş hızlı elimize ulaştı. beklentileri kar...</td>\n",
       "    </tr>\n",
       "    <tr>\n",
       "      <th>27339</th>\n",
       "      <td>0</td>\n",
       "      <td>işlemci çok ağır rehberi bile açarken insanı d...</td>\n",
       "    </tr>\n",
       "    <tr>\n",
       "      <th>27340</th>\n",
       "      <td>0</td>\n",
       "      <td>Babama almıştım. Hafıza yetersizliği ile ilgil...</td>\n",
       "    </tr>\n",
       "    <tr>\n",
       "      <th>27341</th>\n",
       "      <td>0</td>\n",
       "      <td>telefon performans olarak yeterli degil hafiza...</td>\n",
       "    </tr>\n",
       "    <tr>\n",
       "      <th>27342</th>\n",
       "      <td>0</td>\n",
       "      <td>Hafızası iki resim atınca doluyor uygulamalard...</td>\n",
       "    </tr>\n",
       "    <tr>\n",
       "      <th>27343</th>\n",
       "      <td>0</td>\n",
       "      <td>biraz fotoğraf çekip birazda uygulama yüklerim...</td>\n",
       "    </tr>\n",
       "    <tr>\n",
       "      <th>27344</th>\n",
       "      <td>0</td>\n",
       "      <td>Şu an bu telefondan yaziyorum.Bir kere 8 GB ço...</td>\n",
       "    </tr>\n",
       "    <tr>\n",
       "      <th>27345</th>\n",
       "      <td>0</td>\n",
       "      <td>8GB hafıza yetmiyor. Güncelleme bile yapamıyor...</td>\n",
       "    </tr>\n",
       "    <tr>\n",
       "      <th>27346</th>\n",
       "      <td>0</td>\n",
       "      <td>Telefon Her özelliğiyle çok kötü 5 aydır kulla...</td>\n",
       "    </tr>\n",
       "    <tr>\n",
       "      <th>27347</th>\n",
       "      <td>0</td>\n",
       "      <td>3 aydır kullanıyorum. artık güncellemelere bil...</td>\n",
       "    </tr>\n",
       "    <tr>\n",
       "      <th>27348</th>\n",
       "      <td>0</td>\n",
       "      <td>bu telefonu aldığıma pin pişmanım. Hepsi burad...</td>\n",
       "    </tr>\n",
       "    <tr>\n",
       "      <th>27349</th>\n",
       "      <td>0</td>\n",
       "      <td>Aldım ama önermem. Oyuncak gibi. Oyun oynamıyo...</td>\n",
       "    </tr>\n",
       "    <tr>\n",
       "      <th>27350</th>\n",
       "      <td>0</td>\n",
       "      <td>8 GB yazıp kullanıma  verilip sadece 2 GB  ku...</td>\n",
       "    </tr>\n",
       "    <tr>\n",
       "      <th>27351</th>\n",
       "      <td>0</td>\n",
       "      <td>Merhabalar, ürün 4 gün içinde elime ulaştı. Sa...</td>\n",
       "    </tr>\n",
       "  </tbody>\n",
       "</table>\n",
       "<p>27352 rows × 2 columns</p>\n",
       "</div>"
      ],
      "text/plain": [
       "       Rating                                             Review\n",
       "0           1                            3 yıldır tık demedi. :)\n",
       "1           1                      3 yıldır kullanıyorum müthiş \n",
       "2           1  Ürün bugün elime geçti çok fazla inceleme fırs...\n",
       "3           1  Almaya karar verdim. Hemencecik geldi. Keyifle...\n",
       "4           1  Günlük kullanımınızı çok çok iyi karsılıyor kı...\n",
       "5           1                                        gayet güzel\n",
       "6           1  Çok kaliteli bir ürün ve fiyatı da uygun. Uzun...\n",
       "7           1  yaklaşık 5 senedir kullanıyorum. defalarca düş...\n",
       "8           1  Ürün günlük kullanım için çok uygun. Ürünle bi...\n",
       "9           1  Ürünü bir arkadaşım 2009 yılında hediye olarak...\n",
       "10          1  1 gün gibi kısa bir sürede elime geçti. Ve bu ...\n",
       "11          1         fiyat fayda  oranına göre çok iyi bir ürün\n",
       "12          1  Güzel kullanışlı bir ürün. Herhangi bir proble...\n",
       "13          1    Oyun oynamayacaklar için gayet güzel bir mouse \n",
       "14          1  Ürünü yılladır kullanıyoruz, fiyat kalite ve p...\n",
       "15          1  Hoş ve kaliteli bir mouse. Leptopla kullanım i...\n",
       "16          1                                    Urunu begendik \n",
       "17          1  Ürünü yorumlara bakarak aldım iyi ki de almışı...\n",
       "18          1  Ürün süper kalitede değil, malzeme açısından a...\n",
       "19          1  sağlam ve dayanıklı bir ürün herkese tavsiye e...\n",
       "20          1                                            Çok iyi\n",
       "21          1  Ürün gayet güzel Kısa surede elime geçti teşek...\n",
       "22          1  Ürünü almadan önce yorumları okuduğumda çok kı...\n",
       "23          1  Ürün bir günde elime geçti. Hepsiburada'ya teş...\n",
       "24          1  Çok güzel bir mouse. Hem ele oturuyor hem çok ...\n",
       "25          1  birçok mouse kullandım anca logitech bu konuda...\n",
       "26          1  Bu fare ve bir üst modelinden kendime, arkadaş...\n",
       "27          1  halıda koltukta yerde her yerde çekiyor evet b...\n",
       "28          1  Hatırlıyorum üni 2de aldım bir tane kırmızı lo...\n",
       "29          1                Logitech her zamanki gibi kaliteli.\n",
       "...       ...                                                ...\n",
       "27322       0  ürün z5 ile uyumlu değil, ürünün tanıtıcı başl...\n",
       "27323       0  Kablosuna hafif dokunmada şarj kesiliyor. Mıkn...\n",
       "27324       0  fena değil ama tam oturmuyor . şarjı engelleye...\n",
       "27325       0  Ürünü 10 gün önce sipariş ettim ve cihazımı ik...\n",
       "27326       0  Kablo kullanıma bağlı olarak çabuk eskidi.  Öz...\n",
       "27327       0  mıknatıs çok iyi. şarj süreside iyi. ama 1 ayd...\n",
       "27328       0  yorumlara bakarak aldım ama telefonu kullanırk...\n",
       "27329       0  İlk birkaç gün iyiydi ancak sonradan saçmalama...\n",
       "27330       0  ürün sorunsuz elime ulaştı bir sıkıntı yok anc...\n",
       "27331       0  Mıknatısın tutuşu güzel fakat elde kullanırken...\n",
       "27332       0                                             berbat\n",
       "27333       0  Telefonun Şarjı çabuk bitiyor ayrica tipi bozu...\n",
       "27334       0  KESINLIKLE TAVSIYE etmiyorum telefonun hafızas...\n",
       "27335       0  ÜRÜN VAAD EDİLEN TARİHTE KARGOYA VERİLMİYOR Dİ...\n",
       "27336       0                                çok kötü iade ettim\n",
       "27337       0  Telefon bugün elimize geçti.Ekran kaygan değil...\n",
       "27338       0  sipariş hızlı elimize ulaştı. beklentileri kar...\n",
       "27339       0  işlemci çok ağır rehberi bile açarken insanı d...\n",
       "27340       0  Babama almıştım. Hafıza yetersizliği ile ilgil...\n",
       "27341       0  telefon performans olarak yeterli degil hafiza...\n",
       "27342       0  Hafızası iki resim atınca doluyor uygulamalard...\n",
       "27343       0  biraz fotoğraf çekip birazda uygulama yüklerim...\n",
       "27344       0  Şu an bu telefondan yaziyorum.Bir kere 8 GB ço...\n",
       "27345       0  8GB hafıza yetmiyor. Güncelleme bile yapamıyor...\n",
       "27346       0  Telefon Her özelliğiyle çok kötü 5 aydır kulla...\n",
       "27347       0  3 aydır kullanıyorum. artık güncellemelere bil...\n",
       "27348       0  bu telefonu aldığıma pin pişmanım. Hepsi burad...\n",
       "27349       0  Aldım ama önermem. Oyuncak gibi. Oyun oynamıyo...\n",
       "27350       0   8 GB yazıp kullanıma  verilip sadece 2 GB  ku...\n",
       "27351       0  Merhabalar, ürün 4 gün içinde elime ulaştı. Sa...\n",
       "\n",
       "[27352 rows x 2 columns]"
      ]
     },
     "execution_count": 2,
     "metadata": {},
     "output_type": "execute_result"
    }
   ],
   "source": [
    "dataset = pd.read_csv('C:/Users/alioz/Desktop/Project_nlp/yeni.csv')\n",
    "\n",
    "dataset"
   ]
  },
  {
   "cell_type": "code",
   "execution_count": 3,
   "metadata": {},
   "outputs": [],
   "source": [
    "train,test = train_test_split(dataset,shuffle = True,test_size = 0.33)\n",
    "\n",
    "y_train= train['Rating']\n",
    "x_train= train['Review']\n",
    "\n",
    "y_test = test['Rating']\n",
    "x_test = test['Review']"
   ]
  },
  {
   "cell_type": "code",
   "execution_count": 4,
   "metadata": {},
   "outputs": [],
   "source": [
    "target = dataset['Rating'].values.tolist()\n",
    "data = dataset['Review'].values.tolist()\n",
    "\n",
    "num_words = 10000\n",
    "tokenizer = Tokenizer(num_words=num_words)\n",
    "tokenizer.fit_on_texts(data)"
   ]
  },
  {
   "cell_type": "code",
   "execution_count": 5,
   "metadata": {},
   "outputs": [
    {
     "data": {
      "text/plain": [
       "{'koseleri': 15292,\n",
       " 'sadeliğinden': 44452,\n",
       " 'konsol': 17926,\n",
       " 'vermeyeyim': 23201,\n",
       " 'ediyoru': 41482,\n",
       " 'çıkışlar': 20834,\n",
       " '40h5570': 45745,\n",
       " 'dusurmem': 50761,\n",
       " 'sonundaki': 47237,\n",
       " 'kamerası': 577,\n",
       " 'kablolar': 7714,\n",
       " 'durmuşlar': 52575,\n",
       " 'tornavidalama': 50119,\n",
       " 'blv': 55311,\n",
       " 'görücem': 26471,\n",
       " 'dolaşıyordu': 55523,\n",
       " 'arakadasım': 57869,\n",
       " 'tozlanmaması': 40393,\n",
       " 'kimsenin': 6530,\n",
       " 'basmasıda': 47490,\n",
       " 'duzenlıyor': 37802,\n",
       " 'beyenmedim': 6720,\n",
       " 'yayılan': 14020,\n",
       " 'çıkarığ': 30598,\n",
       " 'robotları': 46389,\n",
       " 'elınde': 37852,\n",
       " 'mamayi': 14371,\n",
       " 'butonlardan': 20949,\n",
       " 'döndürme': 27068,\n",
       " 'nemde': 49466,\n",
       " 'cımbız': 55964,\n",
       " '370': 52557,\n",
       " 'basima': 24495,\n",
       " 'merakla': 8228,\n",
       " 'parmagımı': 63187,\n",
       " 'olculeri': 20052,\n",
       " 'sivasan': 57699,\n",
       " 'belinizin': 48912,\n",
       " 'klnfxvl': 35530,\n",
       " 'güzellll': 19699,\n",
       " 'tuşlada': 32791,\n",
       " 'seyredildiğinde': 45696,\n",
       " 'çıkartıyorum': 11262,\n",
       " 'whatsappla': 37919,\n",
       " 'kıvamını': 25998,\n",
       " 'türkiyede': 4799,\n",
       " 'sıkıştırmazsanız': 49464,\n",
       " 'ulaşma': 9378,\n",
       " 'okunmasına': 54194,\n",
       " 'yönlendirdi': 21179,\n",
       " 'ulasacak': 48655,\n",
       " 'yanıltıyor': 26231,\n",
       " 'alıcılı': 19220,\n",
       " 'mp3': 1576,\n",
       " '5watt': 49417,\n",
       " '14mb': 31759,\n",
       " 'değiştiririm': 34146,\n",
       " 'beklentisi': 4435,\n",
       " 'emekli': 42876,\n",
       " 'kapatiyo': 62132,\n",
       " 'acmama': 17643,\n",
       " 'anlatmama': 17162,\n",
       " 'güvencisiyle': 41930,\n",
       " 'anlik': 21057,\n",
       " 'dakikalarla': 57738,\n",
       " 'beyenenleri': 59336,\n",
       " 'uykudayken': 16512,\n",
       " 'alınmış': 8448,\n",
       " 'bulunmamaktadır': 13893,\n",
       " 'tası': 48042,\n",
       " 'ölçüsüne': 17793,\n",
       " '2500watt': 49439,\n",
       " 'vurdum': 17849,\n",
       " 'parfümlerden': 18403,\n",
       " 'denilmiş': 7770,\n",
       " 'genişledi': 17742,\n",
       " 'ettireceğim': 11272,\n",
       " 'ssdnizle': 30813,\n",
       " 'gerinmeyin': 54827,\n",
       " '3ds': 32293,\n",
       " 'bucıhaz': 42593,\n",
       " 'zamanki̇': 19145,\n",
       " 'z': 15093,\n",
       " 'halendir': 28138,\n",
       " 'donar': 11232,\n",
       " 'kavuşmak': 39987,\n",
       " 'bulyonu': 58034,\n",
       " 'kitapçık': 14374,\n",
       " 'adedine': 53565,\n",
       " 'vidyo': 13016,\n",
       " 'bilgisayarim': 10864,\n",
       " 'nemlendirme': 26724,\n",
       " 'qantum': 46221,\n",
       " 'buzluğa': 32357,\n",
       " 'geçişlerinde': 11664,\n",
       " 'sesler': 1907,\n",
       " 'sasıyorum': 63780,\n",
       " 'eşleşmeden': 22615,\n",
       " 'bütceniz': 34655,\n",
       " 'geleceğini': 6282,\n",
       " 'karışıklık': 23398,\n",
       " 'yetmiyor': 2885,\n",
       " 'bilgiye': 12741,\n",
       " 'basarken': 9850,\n",
       " 'numaralarının': 23273,\n",
       " 'alamadım': 1589,\n",
       " 'bi̇tmeyen': 36303,\n",
       " 'yürürseniz': 36997,\n",
       " 'saund': 61972,\n",
       " 'kısıkken': 37398,\n",
       " 'dönelik': 43202,\n",
       " 'dair': 4938,\n",
       " 'soğuyunca': 56864,\n",
       " 'giymek': 8957,\n",
       " '3w': 54743,\n",
       " 'yinde': 39485,\n",
       " 'beylikduzu': 49933,\n",
       " 'parasini': 7734,\n",
       " 'shiftli': 29059,\n",
       " 'yakınsa': 22277,\n",
       " 'im': 6428,\n",
       " 'kısalması': 30838,\n",
       " 'birbirlerine': 25116,\n",
       " 'sükutu': 63428,\n",
       " 'durmuyoruz': 38491,\n",
       " 'cepteli': 41935,\n",
       " 'yamukluk': 8014,\n",
       " 'bükülmesini': 33170,\n",
       " 'açmışız': 44304,\n",
       " 'malzemelerinin': 46391,\n",
       " 'yeterince': 1241,\n",
       " 'anlamıyla': 1484,\n",
       " 'püskürtme': 7287,\n",
       " 'dizimde': 19109,\n",
       " 'dinleyen': 17242,\n",
       " 'eskiliğinden': 33029,\n",
       " 'yaptigini': 22873,\n",
       " 'burayada': 51359,\n",
       " 'düşürüldüğünde': 39681,\n",
       " 'piyasadi': 40673,\n",
       " 'glikoz': 58379,\n",
       " 'ormanda': 25017,\n",
       " 'vizyona': 60268,\n",
       " 'ermem': 49014,\n",
       " 'buradayi': 21195,\n",
       " 'yaptığımın': 48374,\n",
       " '6plus': 45508,\n",
       " 'öldürmek': 18087,\n",
       " 'memeyi': 26185,\n",
       " 'doğrudur': 6632,\n",
       " 'hantallaştırıyor': 61100,\n",
       " 'aydınlık': 6685,\n",
       " 'entel': 60292,\n",
       " 'dehset': 26520,\n",
       " 'macten': 62927,\n",
       " 'yükledi': 10456,\n",
       " 'serbest': 10406,\n",
       " 'olunca': 805,\n",
       " 'alırmıydım': 53310,\n",
       " 'sıkınca': 6231,\n",
       " 'duyabilirsiniz': 20649,\n",
       " 'dolduruyordu': 63785,\n",
       " 'zorlanmıştım': 43079,\n",
       " 'yapacağımız': 48740,\n",
       " 'düzleştirme': 18478,\n",
       " 'poşetine': 58363,\n",
       " 'işlemlerinde': 9976,\n",
       " 'biçimlendiriparaçta': 29185,\n",
       " 'fişler': 24569,\n",
       " 'etmen': 11806,\n",
       " 'avantajları': 10610,\n",
       " 'gerekmeyenler': 27602,\n",
       " 'eskilerinden': 14527,\n",
       " 'ilkokul': 12957,\n",
       " 'tutabilsin': 50028,\n",
       " 'kendim': 853,\n",
       " 'eşleşmiyor': 8731,\n",
       " 'saclarim': 14490,\n",
       " 'baksaydım': 60542,\n",
       " 'biliyorsan': 41764,\n",
       " 'yatak': 1035,\n",
       " '2500': 11302,\n",
       " 'bekletiyordu': 30386,\n",
       " 'tasiyabilirsiniz': 28407,\n",
       " 'bozulmuyor': 9437,\n",
       " 'şişirebilirdim': 54439,\n",
       " 'hi̇zmeti̇ne': 59414,\n",
       " 'ilede': 38812,\n",
       " 'piasada': 28081,\n",
       " 'sesimin': 15974,\n",
       " 'yapılmıştır': 25620,\n",
       " 'sıfırda': 51250,\n",
       " 'imkanlarımızla': 25578,\n",
       " 'dikakt': 62837,\n",
       " 'duzlestirmek': 56802,\n",
       " 'kumlardan': 27122,\n",
       " 'arkadaslarımı': 28198,\n",
       " 'hepsiexpressle': 31230,\n",
       " 'önerildi': 57059,\n",
       " '6700hq': 30433,\n",
       " 'mesajlarını': 13555,\n",
       " 'yurticikargoya': 32325,\n",
       " 'olmayacaksınız': 2930,\n",
       " 'görüntülü': 2744,\n",
       " 'fıs': 9116,\n",
       " 'yukseklerde': 63433,\n",
       " '180m2': 33855,\n",
       " 'kesiliyordu': 12939,\n",
       " 'derleyince': 53630,\n",
       " 'dönerken': 7958,\n",
       " '2011': 5985,\n",
       " 'varmadım': 47844,\n",
       " 'çantamın': 56199,\n",
       " 'terazisi': 7263,\n",
       " 'takılmamıştım': 57998,\n",
       " 'kuma': 14601,\n",
       " 'cezbeden': 36311,\n",
       " 'aradiginiz': 21390,\n",
       " 'tüketıyorum': 54145,\n",
       " 'bime': 27622,\n",
       " 'rezaletti': 52498,\n",
       " 'filitreli': 14033,\n",
       " 'ayındaki': 60315,\n",
       " 'bukadarıda': 33665,\n",
       " 'paranizla': 14399,\n",
       " 'yakindan': 26491,\n",
       " 'saçmalamaya': 64643,\n",
       " 'yayma': 43857,\n",
       " 'ölçümünüzü': 38032,\n",
       " 'görmüyordu': 11161,\n",
       " 'fermuarı': 8385,\n",
       " 'başarılıdır': 32524,\n",
       " 'temizlenip': 46384,\n",
       " 'oturum': 16262,\n",
       " 'sistemde': 5904,\n",
       " 'süperr': 13189,\n",
       " 'tasarımcı': 32913,\n",
       " 'tuttuğun': 46401,\n",
       " 'çektim': 5699,\n",
       " 'dönüştürücüyle': 62606,\n",
       " 'iran': 58915,\n",
       " 'proteinden': 27191,\n",
       " 'bölümlerden': 29768,\n",
       " 'korkan': 42815,\n",
       " 'diske': 6014,\n",
       " 'artırma': 21340,\n",
       " '00tl': 20579,\n",
       " 'açamamamız': 41063,\n",
       " 'hazırlık': 8808,\n",
       " 'çızırtılı': 63344,\n",
       " 'arayacagım': 46898,\n",
       " 'türlerini': 53842,\n",
       " 'kizilotesi': 45403,\n",
       " 'zatren': 41004,\n",
       " 'gorunusu': 47848,\n",
       " 'cüzdana': 14906,\n",
       " 'arko': 26620,\n",
       " 'urün': 16080,\n",
       " 'ışıksız': 7412,\n",
       " 'tipte': 26916,\n",
       " 'yolculuklarında': 25708,\n",
       " 'çoktu': 9046,\n",
       " '50mb': 47011,\n",
       " 'düşmeye': 8303,\n",
       " 'olduktan': 12373,\n",
       " 'çöplere': 56191,\n",
       " 'isıtması': 14101,\n",
       " 'kullanaraktan': 63867,\n",
       " 'öylede': 24675,\n",
       " 'bag': 53216,\n",
       " 'anlatışsa': 59344,\n",
       " 'girse': 33957,\n",
       " 'bırde': 13821,\n",
       " 'kademelerde': 8026,\n",
       " 'topunu': 54062,\n",
       " \"fit'in\": 23006,\n",
       " 'elima': 63577,\n",
       " 'bulamssınız': 39838,\n",
       " 'faturadaki': 36569,\n",
       " 'sarariyor': 63544,\n",
       " 'kullanıclar': 51508,\n",
       " 'buralara': 23922,\n",
       " 'i̇steyenler': 10015,\n",
       " 'emicili': 63960,\n",
       " 'filmimi': 19433,\n",
       " 'chipset': 34614,\n",
       " 'sağlığınızı': 22837,\n",
       " 'kedi̇leri̇m': 58530,\n",
       " 'giyebilirsiniz': 26488,\n",
       " 'yanlıslıkla': 41800,\n",
       " 'azdır': 23651,\n",
       " 'kulağımdan': 24335,\n",
       " 'aldırmayın': 4976,\n",
       " 'negatıf': 33680,\n",
       " 'kulanıyoruz': 58123,\n",
       " 'zamanları': 15377,\n",
       " 'i̇kincisini': 22094,\n",
       " 'teflonlarin': 49730,\n",
       " 'olmazı': 48069,\n",
       " 'koyum': 58389,\n",
       " 'kalitesisinden': 33639,\n",
       " 'sürümlerdeki': 42927,\n",
       " \"bar'\": 31253,\n",
       " 'mllik': 53004,\n",
       " 'kovasını': 11680,\n",
       " 'ısındığında': 61762,\n",
       " 'mauselerini': 31990,\n",
       " 'kisiyi': 16593,\n",
       " 'mevcuttu': 23119,\n",
       " 'davranmanıza': 61092,\n",
       " 'icabında': 38830,\n",
       " 'neyin': 15105,\n",
       " 'iyon': 4586,\n",
       " '5inin': 31525,\n",
       " 'bakarsınız': 52981,\n",
       " 'celık': 28868,\n",
       " 'sürgüsünü': 60654,\n",
       " 'soylüyorum': 28415,\n",
       " 'i̇letişimde': 45949,\n",
       " 'yapmalıyım': 54625,\n",
       " 'vidalarını': 15357,\n",
       " 'ala': 11834,\n",
       " 'değerlendirmemde': 44073,\n",
       " 'ayakkabıdan': 11716,\n",
       " 'doğruyu': 37808,\n",
       " 'dairenin': 50172,\n",
       " 'ki̇ngstona': 34305,\n",
       " 'tepki̇': 21068,\n",
       " 'verimlilik': 20016,\n",
       " 'çıkarılmalı': 54594,\n",
       " 'paketlemesi': 5045,\n",
       " 'özelli̇ği̇ni̇n': 42611,\n",
       " 'zorluğu': 9672,\n",
       " 'flaçşı': 40283,\n",
       " 'leptop': 9461,\n",
       " 'şubemiz': 36231,\n",
       " 'çikmasi': 25104,\n",
       " 'yazıcıların': 16312,\n",
       " 'uyuşmayı': 57864,\n",
       " 'çözebildim': 21334,\n",
       " 'düşüşe': 31270,\n",
       " 'görmesini': 10556,\n",
       " 'ayrıntısıyla': 40515,\n",
       " 'rotasyonunda': 41790,\n",
       " 'ulaştığı': 7565,\n",
       " 'örtecek': 49608,\n",
       " 'derinli': 51072,\n",
       " 'battle': 29355,\n",
       " 'baskısı': 3081,\n",
       " 'döküntüsü': 46273,\n",
       " 'cüzdanımın': 14989,\n",
       " 'saçmayın': 27731,\n",
       " 'vardı': 338,\n",
       " 'cool': 11468,\n",
       " 'reddedebiliyorsunuz': 16503,\n",
       " 'hddye': 20749,\n",
       " 'hızlandırın': 20184,\n",
       " 'harikası': 6377,\n",
       " 'kurulduğunda': 20250,\n",
       " 'herkste': 40694,\n",
       " 'yüklenebilme': 41780,\n",
       " 'keli̇me': 15107,\n",
       " 'yansıtıldı': 46001,\n",
       " 'yapıştırır': 21787,\n",
       " 'öncedende': 12165,\n",
       " 'toplama': 9759,\n",
       " '945': 44608,\n",
       " 'tahmını': 64158,\n",
       " 'yerlerde': 1389,\n",
       " 'düşünülmüs': 57294,\n",
       " 'oturmasına': 64638,\n",
       " 'günde': 146,\n",
       " 'güveler': 52172,\n",
       " 'iyide': 8875,\n",
       " 'birkez': 8712,\n",
       " 'hak': 701,\n",
       " 'almamakla': 12274,\n",
       " 'dalgali': 26860,\n",
       " 'kullanamıyorsunuz': 3277,\n",
       " 'calari': 61226,\n",
       " 'geldigi': 15755,\n",
       " 'çıkmakla': 59079,\n",
       " 'bagladiginizda': 37125,\n",
       " 'kapanmasi': 20268,\n",
       " 'kulaklığımla': 21110,\n",
       " 'paketteki': 7381,\n",
       " 'baskılı': 37760,\n",
       " 'telefonunuzla': 11329,\n",
       " 'seviyeyi': 13762,\n",
       " 'yerlerdeki': 60445,\n",
       " 'soylemeden': 46578,\n",
       " 'lastiklerde': 50858,\n",
       " 'edilmezsiniz': 55727,\n",
       " '72cm': 53290,\n",
       " 'laptobu': 13044,\n",
       " 'verilmediği': 53960,\n",
       " 'cikip': 53415,\n",
       " 'arttırıyor': 6503,\n",
       " 'ready': 14952,\n",
       " 'asisted': 41395,\n",
       " 'anlamıştım': 18471,\n",
       " 'tarayıcısı': 7854,\n",
       " 'geceleri': 1588,\n",
       " 'boğun': 48988,\n",
       " 'kişiselleştirebilmeniz': 40008,\n",
       " 'olabiliyo': 15946,\n",
       " 'edilemiyorum': 47359,\n",
       " 'alışırım': 13715,\n",
       " 'kavurup': 56814,\n",
       " 'parçalarda': 17811,\n",
       " 'marketlerde': 8423,\n",
       " 'sürmüşsün': 57789,\n",
       " 'temizlemedi': 27022,\n",
       " 'korumak': 7608,\n",
       " 'hizasindan': 57002,\n",
       " 'yaziyorum': 13524,\n",
       " 'koydukları': 63198,\n",
       " 'bulamadı': 17285,\n",
       " 'beklentilerinizi': 4485,\n",
       " 'kurusu': 56980,\n",
       " 'alinnan': 18630,\n",
       " 'prezervatiflerini': 57877,\n",
       " 'esrarengiz': 59462,\n",
       " 'tavuk': 7942,\n",
       " 'kapılabilirsiniz': 43794,\n",
       " 'sorumluluklar': 48559,\n",
       " 'özetliyor': 59521,\n",
       " 'kargolandi': 64250,\n",
       " 'etkiliyici': 22218,\n",
       " 'noktasında': 9591,\n",
       " 'belenenden': 56585,\n",
       " 'modelinide': 32575,\n",
       " 'önereceğim': 22259,\n",
       " 'relefon': 64269,\n",
       " 'inmemiş': 47563,\n",
       " 'köşelerinden': 37190,\n",
       " 'koşuyorlar': 58546,\n",
       " 'uzundu': 8661,\n",
       " 'kestirince': 45747,\n",
       " 'birinin': 3636,\n",
       " 'sevdiklerine': 55767,\n",
       " 'açıyorduk': 58973,\n",
       " 'kampanyalari': 33000,\n",
       " 'çıkartılacağını': 53101,\n",
       " 'camıda': 54393,\n",
       " 'havuza': 7912,\n",
       " 'başkada': 5850,\n",
       " 'kalitwsi': 34243,\n",
       " 'gozukuyo': 38964,\n",
       " 'soketi̇': 61587,\n",
       " 'suluk': 14370,\n",
       " 'çekileceğine': 35739,\n",
       " 'aram': 16880,\n",
       " 'kesintiler': 9573,\n",
       " 'güçten': 56383,\n",
       " 'sistemlerde': 18938,\n",
       " 'ayarlanamaması': 46631,\n",
       " 'sandiskle': 30874,\n",
       " 'sayfaya': 7108,\n",
       " 'puzzleı': 60018,\n",
       " 'penye': 11672,\n",
       " 'sallanarak': 53400,\n",
       " 'kestim': 6551,\n",
       " 'satırlar': 32119,\n",
       " 'di̇nden': 59423,\n",
       " 'ediyormuşlar': 43793,\n",
       " 'çalıştırabiliyor': 37671,\n",
       " 'kolaydı': 9511,\n",
       " 'tamamlandı': 10972,\n",
       " 'telefonunuzda': 16875,\n",
       " 'beklediğimiz': 6367,\n",
       " 'kayıt': 2090,\n",
       " 'yazıcı': 325,\n",
       " 'noktalarındaki': 9057,\n",
       " 'fiyattan': 2696,\n",
       " 'agrıyan': 50721,\n",
       " 'önceliğiniz': 28292,\n",
       " \"yen'i\": 32407,\n",
       " 'ilerlersem': 60001,\n",
       " 'değiştirebilir': 34551,\n",
       " 'baktığım': 12660,\n",
       " 'olacağından': 28400,\n",
       " 'tanıtılmış': 57655,\n",
       " 'yorummların': 47485,\n",
       " 'kayişinin': 47882,\n",
       " 'nedenine': 24528,\n",
       " 'dyrmuyor': 50184,\n",
       " 'kapsamındaki': 31745,\n",
       " 'sınıfın': 20710,\n",
       " 'doldurulabiliyor': 35477,\n",
       " 'i̇lgi̇li̇ler': 22037,\n",
       " 'jetin': 35486,\n",
       " 'yaptiriyorsunuz': 46524,\n",
       " 'alabiliyorlar': 55425,\n",
       " 'benizinli': 50355,\n",
       " 'noki': 44118,\n",
       " 'herseferinde': 18699,\n",
       " 'girişlerini': 34290,\n",
       " 'açıklaması': 14231,\n",
       " 'teki': 15565,\n",
       " 'gio': 55097,\n",
       " 'araştırmasından': 36210,\n",
       " 'kaynaklanıyor': 3434,\n",
       " 'elimdeyken': 23858,\n",
       " 'ayaklarımın': 11748,\n",
       " 'çizimlerimde': 28064,\n",
       " 'okumasaydım': 59284,\n",
       " 'vereceğinize': 37367,\n",
       " 'zaping': 45930,\n",
       " 'bozulmadıkça': 32472,\n",
       " 'aldanma': 56575,\n",
       " 'umudum': 25465,\n",
       " 'deişmediğiniz': 57741,\n",
       " 'geceden': 11439,\n",
       " 'profösyonel': 19310,\n",
       " 'cırtları': 25837,\n",
       " \"1'e\": 39452,\n",
       " 'koydu': 7468,\n",
       " 'sürtünerek': 54300,\n",
       " 'wi̇fi̇': 4532,\n",
       " '39': 8587,\n",
       " 'sonucu': 1342,\n",
       " 'karşılaşsak': 55590,\n",
       " 'mutluydum': 57108,\n",
       " 'uyudugunu': 38115,\n",
       " 'eksiklikler': 7949,\n",
       " 'müzi̇kler': 59911,\n",
       " 'amam': 12261,\n",
       " 'ksaıyor': 45610,\n",
       " 'nıyetle': 43707,\n",
       " 'duymuyor': 13444,\n",
       " 'jantin': 51266,\n",
       " 'tecrübemi': 12986,\n",
       " 'niteliklere': 64530,\n",
       " 'ulaşmış': 19629,\n",
       " 'örgülü': 15100,\n",
       " 'eri̇mi̇yor': 58115,\n",
       " 'kargı': 34131,\n",
       " 'karısımı': 54497,\n",
       " '7000wın': 47057,\n",
       " 'toplayıcısı': 46310,\n",
       " 'krem': 3658,\n",
       " 'kurtulabiliyorsunuz': 40197,\n",
       " 'lattopum': 30503,\n",
       " 'tutar': 4464,\n",
       " 'alasimli': 25956,\n",
       " 'maddiyatım': 39102,\n",
       " 'komşumada': 39568,\n",
       " 'kurulamaz': 48456,\n",
       " 'cdden': 30869,\n",
       " 'yüzüne': 5424,\n",
       " 'parfümleri': 11908,\n",
       " 'kapanışından': 34907,\n",
       " 'kısayolları': 17001,\n",
       " 'bezleri': 2206,\n",
       " 'hemencecik': 12148,\n",
       " 'push': 42978,\n",
       " 'önceli̇kle': 7634,\n",
       " 'görim': 48044,\n",
       " 'önündenn': 35827,\n",
       " 'suyundan': 62460,\n",
       " 'azaltmadı': 56041,\n",
       " 'bilgisayarlara': 34411,\n",
       " 'yazamamanız': 41310,\n",
       " 'kaçırmıyorsunuz': 13490,\n",
       " 'fareyi': 3203,\n",
       " 'şubemizden': 37145,\n",
       " 'öğle': 5902,\n",
       " 'alacaksanızda': 17696,\n",
       " 'ayrıyetten': 10689,\n",
       " 'bi̇li̇n': 42069,\n",
       " 'tırnaklarına': 58029,\n",
       " 'şokluyor': 53833,\n",
       " 'hadiye': 32521,\n",
       " 'indirmede': 21530,\n",
       " 'başlıgı': 26749,\n",
       " 'kurudugu': 21829,\n",
       " 'begendigim': 64658,\n",
       " 'yukarıdaki': 23655,\n",
       " 'hıssını': 54213,\n",
       " 'kıyaslamaya': 44316,\n",
       " 'almamaya': 17590,\n",
       " 'teyibimle': 29103,\n",
       " 'şartları': 14288,\n",
       " 'çırpsan': 49090,\n",
       " 'azaldi': 52931,\n",
       " 'salonumdaki': 34022,\n",
       " 'kartuşlarda': 12952,\n",
       " 'kursun': 32458,\n",
       " 'ekmeğine': 60969,\n",
       " 'cekiyçekiyorum': 31314,\n",
       " 'hk': 41976,\n",
       " 'tamamladı': 13632,\n",
       " 'bölmesinde': 29990,\n",
       " 'anlam': 3400,\n",
       " 'i̇çine': 6444,\n",
       " 'zamandr': 56875,\n",
       " 'sağlayabiliyoruz': 33974,\n",
       " 'yapıyodu': 59917,\n",
       " 'sebeblerden': 39656,\n",
       " 'zorlastırıyor': 46689,\n",
       " 'arabasıyla': 25567,\n",
       " 'kadarsa': 46568,\n",
       " '4mb': 28667,\n",
       " 'hızlandırmaktan': 44082,\n",
       " 'hypnos': 55908,\n",
       " \"'align'\": 43926,\n",
       " 'duyduk': 62776,\n",
       " 'mantolama': 52148,\n",
       " 'olanı': 1183,\n",
       " 'piyasanın': 2762,\n",
       " 'sarzi̇': 36716,\n",
       " 'masanızda': 20831,\n",
       " 'kaşesi': 56624,\n",
       " 'önemsiyorum': 45544,\n",
       " 'daima': 9438,\n",
       " 'romana': 59669,\n",
       " 'isteniyor': 16383,\n",
       " 'olmamayışı': 42848,\n",
       " 'basladigimda': 47205,\n",
       " 'silmeniz': 13742,\n",
       " 'kullanamayanlar': 19690,\n",
       " 'çıkardım': 2647,\n",
       " 'bilgisayarimi': 35882,\n",
       " 'repeateri': 33923,\n",
       " 'şıklığınada': 47335,\n",
       " 'yerleştirilmiş': 46589,\n",
       " 'kirilmaya': 44964,\n",
       " 'söyliyim': 7486,\n",
       " 'taşma': 5912,\n",
       " 'sarılıklar': 57268,\n",
       " 'uyumluluk': 21224,\n",
       " 'yarıyor': 935,\n",
       " 'kaybolmuş': 17739,\n",
       " 'alıştınızmı': 39505,\n",
       " 'hızlanmaya': 50759,\n",
       " 'engelliyim': 38141,\n",
       " 'kadarmış': 25320,\n",
       " 'kurtulmakbu': 58022,\n",
       " 'dönersek': 41598,\n",
       " 'empoze': 41791,\n",
       " 'yenilendi': 6474,\n",
       " 'içmekten': 54237,\n",
       " 'bulamadım': 1097,\n",
       " 'vermişler': 5691,\n",
       " 'diye': 68,\n",
       " 'kapaninca': 48568,\n",
       " 'hayok': 58051,\n",
       " 'tanımla': 51202,\n",
       " 'nazaqr': 41393,\n",
       " 'yapıldığını': 17013,\n",
       " 'görebilmekti': 39543,\n",
       " 'bekeldigimden': 29548,\n",
       " 'taşıyıo': 18861,\n",
       " 'yönlendiriyor': 9580,\n",
       " 'başliğı': 57200,\n",
       " 'çalısıyo': 41554,\n",
       " 'i̇nternet': 1829,\n",
       " 'yüklendiğinde': 40918,\n",
       " 'farkındalık': 38852,\n",
       " 'yogunlasabilirlerdi': 61653,\n",
       " 'çekebilen': 56969,\n",
       " 'tercihimdi': 14902,\n",
       " 'sağlammış': 14079,\n",
       " 'yurtdışına': 52201,\n",
       " 'gelmedim': 62929,\n",
       " 'tüy': 2832,\n",
       " 'oynatamayan': 42355,\n",
       " 'flas': 7719,\n",
       " 'iğnesi': 48066,\n",
       " 'yemeden': 59045,\n",
       " 'siparişle': 21597,\n",
       " 'fotografi': 44370,\n",
       " 'calgonir': 58175,\n",
       " 'iletileri': 38414,\n",
       " 'kulandığım': 34196,\n",
       " 'prosedürüne': 25589,\n",
       " 'toplamadı': 58985,\n",
       " 'geçkin': 12439,\n",
       " 'edi̇ni̇lmeli̇': 43177,\n",
       " 'beklentinize': 13481,\n",
       " 'teninizle': 55239,\n",
       " 'mendili': 27523,\n",
       " 'evde': 347,\n",
       " 'dolgunluk': 17405,\n",
       " 'wattlı': 49381,\n",
       " 'espressoda': 58352,\n",
       " 'yaptınız': 8902,\n",
       " 'dökülecek': 57135,\n",
       " 'kullanacağı': 16589,\n",
       " 'markalarla': 6863,\n",
       " 'başlıyorsun': 36524,\n",
       " 'zincir': 5579,\n",
       " 'dizayn': 2604,\n",
       " 'analizlerini': 36609,\n",
       " 'lgnin': 62825,\n",
       " 'dosyalarınızı': 8268,\n",
       " 'şirketiymiş': 46213,\n",
       " 'yapılmaya': 25229,\n",
       " 'türkmenler': 59657,\n",
       " 'pesalsız': 54005,\n",
       " 'eğrildi': 63488,\n",
       " 'meger': 15404,\n",
       " 'eyvah': 10788,\n",
       " 'çeki̇lmeli̇': 43321,\n",
       " 'koyardık': 30124,\n",
       " 'tüplü': 9537,\n",
       " 'oturamiyorum': 53213,\n",
       " 'kimlikler': 29744,\n",
       " 'geceler': 49106,\n",
       " 'tabanliklar': 58065,\n",
       " 'dökülüyor': 1981,\n",
       " 'kazansak': 57336,\n",
       " 'merkezleme': 62596,\n",
       " 'özlelliklerine': 61053,\n",
       " 'birakmalilar': 49292,\n",
       " 'dolduğu': 16992,\n",
       " 'karsilasilmisiti': 40156,\n",
       " 'olasılığın': 58690,\n",
       " 'tüketi̇ci̇yi̇': 49778,\n",
       " 'uygularken': 11939,\n",
       " 'hızlanma': 6478,\n",
       " 'melekler': 59262,\n",
       " 'pi̇landa': 35822,\n",
       " 'karşılaştığım': 7450,\n",
       " 'alışverişte': 12215,\n",
       " 'edılebılırlıgıne': 62490,\n",
       " 'saymiyor': 22464,\n",
       " 'yapmışken': 61793,\n",
       " 'kilitleniyor': 6195,\n",
       " 'öncek': 42442,\n",
       " 'baraj': 41452,\n",
       " 'hzlı': 20090,\n",
       " 'olmaliydi': 53259,\n",
       " 'aydinlik': 61265,\n",
       " 'home': 17433,\n",
       " 'esneme': 6995,\n",
       " 'tartisilmaz': 28779,\n",
       " 'olmadiğini': 17973,\n",
       " 'sakallarina': 55389,\n",
       " 'sökülme': 29881,\n",
       " 'atlatabilirseniz': 35927,\n",
       " 'seffaf': 16920,\n",
       " 'canlar': 18874,\n",
       " 'kullnilabiliniyor': 27907,\n",
       " 'yakiştiramadim': 62745,\n",
       " 'maliyetle': 42291,\n",
       " 'karşılaştıracak': 41208,\n",
       " 'heme': 55627,\n",
       " 'gitmesin': 4372,\n",
       " 'yüklersen': 42028,\n",
       " 'hissettiriyor': 3888,\n",
       " 'i': 610,\n",
       " 'ucuzz': 20643,\n",
       " 'işinin': 22086,\n",
       " 'navigasyonuda': 40002,\n",
       " 'saatteki': 16711,\n",
       " 'elimegeldi': 29577,\n",
       " 'kötüydü': 6096,\n",
       " 'girmemek': 23979,\n",
       " 'kalktığınız': 39026,\n",
       " 'alıştırmaya': 59008,\n",
       " 'olduguna': 10963,\n",
       " 'sayamıyorum': 49357,\n",
       " 'oturacaktık': 29450,\n",
       " 'memnunumuz': 31295,\n",
       " 'yaşta': 47912,\n",
       " 'hoparlörün': 64290,\n",
       " 'bunlarında': 11972,\n",
       " 'fırcalıyorsa': 57240,\n",
       " 'alması': 2291,\n",
       " 'kontür': 23421,\n",
       " 'omuzunuza': 43532,\n",
       " 'sofbenimi': 47203,\n",
       " 'araçlarına': 44712,\n",
       " 'bi̇len': 21551,\n",
       " 'artirmak': 43854,\n",
       " 'artırıp': 63420,\n",
       " 'mesafeden': 4914,\n",
       " 'cekmisiz': 31229,\n",
       " 'güneşliği': 26163,\n",
       " 'terettüdüm': 40537,\n",
       " 'yenilenmeseydi': 12109,\n",
       " 'broşürü': 20456,\n",
       " 'vaadettigi': 31481,\n",
       " 'demonte': 8961,\n",
       " 'etmeyeceğine': 38311,\n",
       " 'kalitedir': 32738,\n",
       " 'modelin': 4941,\n",
       " 'genişletsen': 54715,\n",
       " '125': 9579,\n",
       " 'boşlukta': 17830,\n",
       " 'laptopunuzda': 35741,\n",
       " 'mausla': 19306,\n",
       " 'emi̇ş': 17595,\n",
       " '158': 60984,\n",
       " 'dedı': 52785,\n",
       " 'siyrilarak': 54344,\n",
       " 'akımını': 47348,\n",
       " 'gömleklerde': 46511,\n",
       " 'duruşu': 2608,\n",
       " 'ye': 424,\n",
       " 'olacakmış': 6374,\n",
       " 'görünümüde': 15225,\n",
       " 'baglantısını': 47221,\n",
       " 'kendiminkini': 22673,\n",
       " 'malzemele': 48515,\n",
       " 'veee': 23367,\n",
       " 'getirilirse': 49228,\n",
       " 'matlastirici': 57979,\n",
       " 'şikayetçiyim': 24629,\n",
       " 'kafase': 58927,\n",
       " 'çıkarınca': 5689,\n",
       " 'ki̇a': 51537,\n",
       " 'drivera': 63035,\n",
       " 'kaldırır': 53719,\n",
       " 'söyledim': 3250,\n",
       " 'vantilatörlerden': 17718,\n",
       " 'kullanabilirmiyim': 23443,\n",
       " 'döneceğini': 27251,\n",
       " 'gözükmemektedir': 49893,\n",
       " '3se': 34548,\n",
       " 'i̇şlemci̇si̇': 39820,\n",
       " 'ayıırmanızı': 59411,\n",
       " 'aldığın': 8159,\n",
       " 'ettirdikçe': 48379,\n",
       " 'yapmişlar': 29848,\n",
       " 'bilmiyorum': 449,\n",
       " 'olduysam': 63752,\n",
       " 'ucuc': 27906,\n",
       " 'ışığına': 25401,\n",
       " 'buharla': 14524,\n",
       " 'iyidi': 4695,\n",
       " 'girişimimde': 40572,\n",
       " 'alışverişinde': 21732,\n",
       " \"00'den\": 30156,\n",
       " 'külot': 2911,\n",
       " 'gıderılmıs': 41986,\n",
       " '100mb': 6911,\n",
       " 'komsumdan': 21353,\n",
       " 'fanlı': 5126,\n",
       " 'karıştırmışlar': 59055,\n",
       " 'abartıcak': 16282,\n",
       " 'setin': 59297,\n",
       " 'bakından': 60909,\n",
       " 'şeklindedir': 32360,\n",
       " 'değecek': 7948,\n",
       " 'kardeşinin': 59661,\n",
       " 'pclere': 34662,\n",
       " 'expresmiş': 29021,\n",
       " 'inerdi': 50892,\n",
       " 'ettigimizde': 47367,\n",
       " 'kalıba': 8918,\n",
       " 's4': 6545,\n",
       " 'oturmuyordu': 51423,\n",
       " 'prestijli': 6695,\n",
       " 'ekleyin': 10722,\n",
       " 'efsaneleşen': 42259,\n",
       " 'paketinden': 8574,\n",
       " 'alinasi': 16454,\n",
       " 'notuyla': 29382,\n",
       " 'temmuz': 16906,\n",
       " 'pişmanlık': 4187,\n",
       " 'derdin': 19444,\n",
       " 'aşmak': 13254,\n",
       " 'etın': 57848,\n",
       " 'düzleştirebiliyor': 56754,\n",
       " 'telefonlarla': 4835,\n",
       " 'avcumun': 40896,\n",
       " 'alışkanlığına': 59930,\n",
       " 'etrafımdakileri': 63094,\n",
       " 'dağıtıcıya': 36476,\n",
       " 'termal': 3258,\n",
       " 'emerken': 52431,\n",
       " 'gurme': 58759,\n",
       " 'tıpranmış': 52525,\n",
       " 'upgrade': 6496,\n",
       " 'fırçalamıyor': 57105,\n",
       " 'tasarrufunu': 20930,\n",
       " 'idrarda': 18546,\n",
       " 'bütünleşmiş': 61888,\n",
       " 'firmware': 6039,\n",
       " 'parasının': 2725,\n",
       " 'makineye': 4943,\n",
       " 'haftalıkken': 61086,\n",
       " 'çalıştırdığım': 22024,\n",
       " 'duruşundan': 20774,\n",
       " 'basarısız': 56856,\n",
       " 'almıştırm': 45292,\n",
       " 'krokiler': 59291,\n",
       " 'artisini': 18231,\n",
       " 'araları': 9020,\n",
       " 'çocukluk': 26263,\n",
       " 'geçemeyeceği': 48229,\n",
       " 'aralarından': 52350,\n",
       " 'televizyondan': 19438,\n",
       " 'edilirken': 25220,\n",
       " 'arası': 896,\n",
       " 'aradığın': 23476,\n",
       " '10da': 14676,\n",
       " 'kurulmadı': 35745,\n",
       " 'hantallasiyor': 61580,\n",
       " 'kablosuz': 306,\n",
       " 'alaşımlı': 62890,\n",
       " 'traj': 18456,\n",
       " 'ettigimi': 56616,\n",
       " 'aracinda': 41921,\n",
       " 'şıuk': 44607,\n",
       " 'kompakt': 4904,\n",
       " 'çekiyorsa': 20435,\n",
       " 'toplanıp': 10278,\n",
       " 'bora': 24661,\n",
       " 'şahsi': 7668,\n",
       " 'erisebiliyor': 46983,\n",
       " 'verdigime': 42230,\n",
       " 'tamanen': 61455,\n",
       " 'cız': 53520,\n",
       " 'olmasininda': 35030,\n",
       " 'fzla': 60858,\n",
       " 'final': 60285,\n",
       " 'pratşk': 56422,\n",
       " '3rd': 22521,\n",
       " 'taşımama': 21461,\n",
       " 'televi̇zyonun': 45850,\n",
       " 'öğelerinde': 59466,\n",
       " 'bırakmam': 38555,\n",
       " 'ambalajlama': 15045,\n",
       " 'değerlendirmesi': 9879,\n",
       " 'koltukları': 46763,\n",
       " 'söylenenlere': 20290,\n",
       " 'görür': 533,\n",
       " 'alabilerek': 62183,\n",
       " 'bulunmuyordu': 21550,\n",
       " '3835': 35605,\n",
       " 'yaramıyor': 578,\n",
       " 'sümela': 51223,\n",
       " '1515': 21673,\n",
       " 'servisinin': 42306,\n",
       " 'kişinin': 2005,\n",
       " 'aldıydım': 9047,\n",
       " 'uyuyamiyoruz': 62763,\n",
       " 'verdikleri': 11390,\n",
       " 'oynadıktan': 54462,\n",
       " 'minumum': 16475,\n",
       " 'ayarlayın': 22882,\n",
       " 'edebilirdi': 44669,\n",
       " 'kali̇te': 5708,\n",
       " 'güncelledi': 38149,\n",
       " 'köpekleri': 8151,\n",
       " 'görüşlerim': 11196,\n",
       " 'yapılmadığını': 46007,\n",
       " 'fayde': 33573,\n",
       " 'odaklayın': 39510,\n",
       " 'kademedeki': 57335,\n",
       " 'şöle': 20699,\n",
       " 'sitelerde': 4692,\n",
       " 'mumkun': 7633,\n",
       " 'renginden': 10511,\n",
       " 'bebeğimizi': 52536,\n",
       " 'bayaa': 9339,\n",
       " 'amaclı': 16995,\n",
       " 'algıla': 41262,\n",
       " 'bağlayamıyordum': 33830,\n",
       " 'cunku': 2423,\n",
       " 'saçımın': 18463,\n",
       " 'çöküp': 30316,\n",
       " 'kalacaklar': 40823,\n",
       " 'kırpmadan': 14836,\n",
       " 'ayniydi': 33932,\n",
       " 'önermişti': 57334,\n",
       " 'mousesi': 29589,\n",
       " 'atsaydınız': 63199,\n",
       " 'eleti': 56366,\n",
       " 'biridir': 9602,\n",
       " 'değiişti': 43003,\n",
       " 'eninin': 53959,\n",
       " 'türünün': 12176,\n",
       " 'yapmamıza': 48799,\n",
       " 'karşilayacaktir': 27883,\n",
       " 'tanıttıktan': 37715,\n",
       " 'edeli': 6653,\n",
       " 'arabamın': 5576,\n",
       " 'setero': 41284,\n",
       " 'mesai': 7395,\n",
       " '667': 60763,\n",
       " 'bağlanıp': 8508,\n",
       " 'kaygıları': 42309,\n",
       " 'ikidide': 32235,\n",
       " 'bilahare': 36200,\n",
       " 'belirtildiği': 2704,\n",
       " 'dislerimde': 57215,\n",
       " 'sunucusuna': 40743,\n",
       " 'ayakkabi': 8038,\n",
       " 'alırkn': 35017,\n",
       " 'yapılmayacağı': 63533,\n",
       " 'vi̇da': 24902,\n",
       " 'hari̇ç': 17041,\n",
       " 'incelemelerimde': 38816,\n",
       " 'kissamda': 47794,\n",
       " 'şurup': 26212,\n",
       " ...}"
      ]
     },
     "execution_count": 5,
     "metadata": {},
     "output_type": "execute_result"
    }
   ],
   "source": [
    "tokenizer.word_index"
   ]
  },
  {
   "cell_type": "code",
   "execution_count": 6,
   "metadata": {},
   "outputs": [],
   "source": [
    "x_train_tokens = tokenizer.texts_to_sequences(x_train)\n",
    "x_test_tokens = tokenizer.texts_to_sequences(x_test)\n"
   ]
  },
  {
   "cell_type": "code",
   "execution_count": 7,
   "metadata": {},
   "outputs": [],
   "source": [
    "num_tokens = [len(tokens) for tokens in x_train_tokens + x_test_tokens]\n",
    "num_tokens = np.array(num_tokens)"
   ]
  },
  {
   "cell_type": "code",
   "execution_count": 8,
   "metadata": {},
   "outputs": [
    {
     "data": {
      "text/plain": [
       "23.259213220239836"
      ]
     },
     "execution_count": 8,
     "metadata": {},
     "output_type": "execute_result"
    }
   ],
   "source": [
    "np.mean(num_tokens)"
   ]
  },
  {
   "cell_type": "code",
   "execution_count": 9,
   "metadata": {},
   "outputs": [
    {
     "data": {
      "text/plain": [
       "292"
      ]
     },
     "execution_count": 9,
     "metadata": {},
     "output_type": "execute_result"
    }
   ],
   "source": [
    "np.max(num_tokens)"
   ]
  },
  {
   "cell_type": "code",
   "execution_count": 10,
   "metadata": {},
   "outputs": [
    {
     "data": {
      "text/plain": [
       "21.220380642935005"
      ]
     },
     "execution_count": 10,
     "metadata": {},
     "output_type": "execute_result"
    }
   ],
   "source": [
    "np.std(num_tokens)"
   ]
  },
  {
   "cell_type": "code",
   "execution_count": 11,
   "metadata": {},
   "outputs": [
    {
     "data": {
      "text/plain": [
       "66"
      ]
     },
     "execution_count": 11,
     "metadata": {},
     "output_type": "execute_result"
    }
   ],
   "source": [
    "max_tokens = np.mean(num_tokens) + 2 * np.std(num_tokens)\n",
    "max_tokens = int(max_tokens) + 1\n",
    "max_tokens"
   ]
  },
  {
   "cell_type": "code",
   "execution_count": 12,
   "metadata": {},
   "outputs": [
    {
     "data": {
      "text/plain": [
       "0.9611728575606903"
      ]
     },
     "execution_count": 12,
     "metadata": {},
     "output_type": "execute_result"
    }
   ],
   "source": [
    "np.sum(num_tokens < max_tokens) / len(num_tokens)"
   ]
  },
  {
   "cell_type": "code",
   "execution_count": 13,
   "metadata": {},
   "outputs": [],
   "source": [
    "x_train_pad = pad_sequences(x_train_tokens, maxlen=max_tokens)\n",
    "\n",
    "x_test_pad = pad_sequences(x_test_tokens, maxlen=max_tokens)"
   ]
  },
  {
   "cell_type": "code",
   "execution_count": 14,
   "metadata": {},
   "outputs": [
    {
     "data": {
      "text/plain": [
       "(18325, 66)"
      ]
     },
     "execution_count": 14,
     "metadata": {},
     "output_type": "execute_result"
    }
   ],
   "source": [
    "x_train_pad.shape"
   ]
  },
  {
   "cell_type": "code",
   "execution_count": 15,
   "metadata": {},
   "outputs": [
    {
     "data": {
      "text/plain": [
       "(9027, 66)"
      ]
     },
     "execution_count": 15,
     "metadata": {},
     "output_type": "execute_result"
    }
   ],
   "source": [
    "x_test_pad.shape"
   ]
  },
  {
   "cell_type": "code",
   "execution_count": 16,
   "metadata": {},
   "outputs": [],
   "source": [
    "modelG_jupyter = Sequential()\n",
    "\n",
    "embedding_size_gru = 8\n",
    "\n",
    "modelG_jupyter.add(Embedding(input_dim=num_words, output_dim=embedding_size_gru, input_length=max_tokens, name='embedding_layer'))\n",
    "\n",
    "modelG_jupyter.add(GRU(units=8, return_sequences=True))\n",
    "modelG_jupyter.add(GRU(units=8, return_sequences=True))\n",
    "modelG_jupyter.add(GRU(units=4, return_sequences=True))\n",
    "modelG_jupyter.add(GRU(units=4))\n",
    "modelG_jupyter.add(Dense(1, activation='sigmoid'))\n",
    "\n",
    "optimizer = Adam(lr=1e-3)"
   ]
  },
  {
   "cell_type": "code",
   "execution_count": 17,
   "metadata": {},
   "outputs": [],
   "source": [
    "modelG_jupyter.compile(loss='binary_crossentropy', optimizer=optimizer, metrics=['accuracy'])"
   ]
  },
  {
   "cell_type": "code",
   "execution_count": 18,
   "metadata": {},
   "outputs": [
    {
     "name": "stdout",
     "output_type": "stream",
     "text": [
      "_________________________________________________________________\n",
      "Layer (type)                 Output Shape              Param #   \n",
      "=================================================================\n",
      "embedding_layer (Embedding)  (None, 66, 8)             80000     \n",
      "_________________________________________________________________\n",
      "gru_1 (GRU)                  (None, 66, 8)             408       \n",
      "_________________________________________________________________\n",
      "gru_2 (GRU)                  (None, 66, 8)             408       \n",
      "_________________________________________________________________\n",
      "gru_3 (GRU)                  (None, 66, 4)             156       \n",
      "_________________________________________________________________\n",
      "gru_4 (GRU)                  (None, 4)                 108       \n",
      "_________________________________________________________________\n",
      "dense_1 (Dense)              (None, 1)                 5         \n",
      "=================================================================\n",
      "Total params: 81,085\n",
      "Trainable params: 81,085\n",
      "Non-trainable params: 0\n",
      "_________________________________________________________________\n"
     ]
    }
   ],
   "source": [
    "modelG_jupyter.summary()"
   ]
  },
  {
   "cell_type": "code",
   "execution_count": 19,
   "metadata": {},
   "outputs": [
    {
     "name": "stdout",
     "output_type": "stream",
     "text": [
      "Epoch 1/5\n",
      "18325/18325 [==============================] - 80s 4ms/step - loss: 0.6884 - acc: 0.5496\n",
      "Epoch 2/5\n",
      "18325/18325 [==============================] - 33s 2ms/step - loss: 0.5997 - acc: 0.7018\n",
      "Epoch 3/5\n",
      "18325/18325 [==============================] - 30s 2ms/step - loss: 0.4269 - acc: 0.8208\n",
      "Epoch 4/5\n",
      "18325/18325 [==============================] - 30s 2ms/step - loss: 0.3382 - acc: 0.8722\n",
      "Epoch 5/5\n",
      "18325/18325 [==============================] - 34s 2ms/step - loss: 0.2733 - acc: 0.9060\n"
     ]
    },
    {
     "data": {
      "text/plain": [
       "<tensorflow.python.keras._impl.keras.callbacks.History at 0x16640b1a940>"
      ]
     },
     "execution_count": 19,
     "metadata": {},
     "output_type": "execute_result"
    }
   ],
   "source": [
    "modelG_jupyter.fit(x_train_pad, y_train, epochs=5, batch_size=256)"
   ]
  },
  {
   "cell_type": "code",
   "execution_count": 21,
   "metadata": {},
   "outputs": [
    {
     "name": "stdout",
     "output_type": "stream",
     "text": [
      "9027/9027 [==============================] - 25s 3ms/step\n"
     ]
    }
   ],
   "source": [
    "resultGRU_jupyter = modelG_jupyter.evaluate(x_test_pad, y_test)"
   ]
  },
  {
   "cell_type": "code",
   "execution_count": 24,
   "metadata": {},
   "outputs": [
    {
     "data": {
      "text/plain": [
       "(0.3043602943144738, 0.8851224105461394)"
      ]
     },
     "execution_count": 24,
     "metadata": {},
     "output_type": "execute_result"
    }
   ],
   "source": [
    "resultGRU_jupyter[0],resultGRU_jupyter[1]"
   ]
  },
  {
   "cell_type": "code",
   "execution_count": 51,
   "metadata": {},
   "outputs": [],
   "source": [
    "modelLSTM_jupyter = Sequential()\n",
    "\n",
    "embedding_size_lstm = 8\n",
    "\n",
    "modelLSTM_jupyter.add(Embedding(input_dim=num_words, output_dim=embedding_size_lstm, input_length=max_tokens, name='embedding_layer'))\n",
    "                    \n",
    "modelLSTM_jupyter.add(LSTM(units=8, return_sequences=True))\n",
    "modelLSTM_jupyter.add(LSTM(units=8, return_sequences=True))\n",
    "modelLSTM_jupyter.add(LSTM(units=4, return_sequences=True))\n",
    "modelLSTM_jupyter.add(LSTM(units=4))\n",
    "modelLSTM_jupyter.add(Dense(1, activation='sigmoid'))\n",
    "\n",
    "\n",
    "optimizer = Adam(lr=1e-3)\n"
   ]
  },
  {
   "cell_type": "code",
   "execution_count": 52,
   "metadata": {},
   "outputs": [],
   "source": [
    "modelLSTM_jupyter.compile(loss='binary_crossentropy', optimizer=optimizer, metrics=['accuracy'])"
   ]
  },
  {
   "cell_type": "code",
   "execution_count": 27,
   "metadata": {},
   "outputs": [
    {
     "name": "stdout",
     "output_type": "stream",
     "text": [
      "_________________________________________________________________\n",
      "Layer (type)                 Output Shape              Param #   \n",
      "=================================================================\n",
      "embedding_layer (Embedding)  (None, 66, 8)             80000     \n",
      "_________________________________________________________________\n",
      "lstm_1 (LSTM)                (None, 66, 8)             544       \n",
      "_________________________________________________________________\n",
      "lstm_2 (LSTM)                (None, 66, 8)             544       \n",
      "_________________________________________________________________\n",
      "lstm_3 (LSTM)                (None, 66, 4)             208       \n",
      "_________________________________________________________________\n",
      "lstm_4 (LSTM)                (None, 4)                 144       \n",
      "_________________________________________________________________\n",
      "dense_2 (Dense)              (None, 1)                 5         \n",
      "=================================================================\n",
      "Total params: 81,445\n",
      "Trainable params: 81,445\n",
      "Non-trainable params: 0\n",
      "_________________________________________________________________\n"
     ]
    }
   ],
   "source": [
    "modelLSTM_jupyter.summary()"
   ]
  },
  {
   "cell_type": "code",
   "execution_count": 53,
   "metadata": {},
   "outputs": [
    {
     "name": "stdout",
     "output_type": "stream",
     "text": [
      "Epoch 1/5\n",
      "18325/18325 [==============================] - 41s 2ms/step - loss: 0.6914 - acc: 0.5270\n",
      "Epoch 2/5\n",
      "18325/18325 [==============================] - 39s 2ms/step - loss: 0.6266 - acc: 0.6615\n",
      "Epoch 3/5\n",
      "18325/18325 [==============================] - 40s 2ms/step - loss: 0.4936 - acc: 0.7832\n",
      "Epoch 4/5\n",
      "18325/18325 [==============================] - 38s 2ms/step - loss: 0.4100 - acc: 0.8354\n",
      "Epoch 5/5\n",
      "18325/18325 [==============================] - 38s 2ms/step - loss: 0.3482 - acc: 0.8660\n"
     ]
    },
    {
     "data": {
      "text/plain": [
       "<tensorflow.python.keras._impl.keras.callbacks.History at 0x16722010e10>"
      ]
     },
     "execution_count": 53,
     "metadata": {},
     "output_type": "execute_result"
    }
   ],
   "source": [
    "modelLSTM_jupyter.fit(x_train_pad, y_train, epochs=5, batch_size=256)"
   ]
  },
  {
   "cell_type": "code",
   "execution_count": 54,
   "metadata": {},
   "outputs": [
    {
     "name": "stdout",
     "output_type": "stream",
     "text": [
      "9027/9027 [==============================] - 31s 3ms/step\n"
     ]
    }
   ],
   "source": [
    "resultLSTM_jupyter = modelLSTM_jupyter.evaluate(x_test_pad, y_test)"
   ]
  },
  {
   "cell_type": "code",
   "execution_count": 55,
   "metadata": {},
   "outputs": [
    {
     "data": {
      "text/plain": [
       "(0.379329703166343, 0.8491193087404453)"
      ]
     },
     "execution_count": 55,
     "metadata": {},
     "output_type": "execute_result"
    }
   ],
   "source": [
    "resultLSTM_jupyter[0],resultLSTM_jupyter[1]"
   ]
  },
  {
   "cell_type": "code",
   "execution_count": 31,
   "metadata": {},
   "outputs": [
    {
     "name": "stderr",
     "output_type": "stream",
     "text": [
      "C:\\Users\\alioz\\Anaconda3\\envs\\tensorflow\\lib\\site-packages\\sklearn\\linear_model\\logistic.py:432: FutureWarning: Default solver will be changed to 'lbfgs' in 0.22. Specify a solver to silence this warning.\n",
      "  FutureWarning)\n"
     ]
    },
    {
     "data": {
      "text/plain": [
       "LogisticRegression(C=1.0, class_weight=None, dual=False, fit_intercept=True,\n",
       "          intercept_scaling=1, max_iter=100, multi_class='warn',\n",
       "          n_jobs=None, penalty='l2', random_state=None, solver='warn',\n",
       "          tol=0.0001, verbose=0, warm_start=False)"
      ]
     },
     "execution_count": 31,
     "metadata": {},
     "output_type": "execute_result"
    }
   ],
   "source": [
    "modelLR_jupyter = LogisticRegression(C=1.0, class_weight=None, dual=False, fit_intercept=True,\n",
    "          intercept_scaling=1, max_iter=100, multi_class='warn',\n",
    "          n_jobs=None, penalty='l2', random_state=None, solver='warn',\n",
    "          tol=0.0001, verbose=0, warm_start=False)\n",
    "modelLR_jupyter.fit(x_train_pad, y_train)"
   ]
  },
  {
   "cell_type": "code",
   "execution_count": 32,
   "metadata": {},
   "outputs": [
    {
     "name": "stdout",
     "output_type": "stream",
     "text": [
      "[[ 9.85181460e-05  4.61818911e-05  8.03861117e-05  6.42914226e-06\n",
      "   6.60150973e-05 -4.28287585e-06  4.69529008e-05  3.26424259e-05\n",
      "  -2.76892667e-05  5.66637627e-05 -3.69942226e-05  7.66998224e-06\n",
      "   3.39441115e-05 -5.75375739e-05  1.97313254e-05  5.63900800e-05\n",
      "  -6.78739294e-05 -7.44849488e-07  1.16068081e-05  2.12744725e-05\n",
      "   1.14979747e-05 -9.36274214e-06  3.22975716e-05  2.79781605e-05\n",
      "  -3.06301285e-05  6.92572382e-06  8.65857293e-07  1.66696808e-05\n",
      "  -1.70996434e-05 -1.22484946e-05 -6.39462907e-06  3.74064032e-05\n",
      "  -4.59882343e-05  2.53216229e-05  2.11850863e-06 -4.32103014e-07\n",
      "  -5.32669677e-06 -2.67046470e-05 -1.56360996e-05 -5.52534318e-06\n",
      "   3.91886363e-06 -1.02483803e-05  6.48688356e-07 -2.51497358e-05\n",
      "  -1.28706914e-05 -3.10075709e-05 -2.52222421e-05  9.27785494e-07\n",
      "  -1.99882964e-05 -3.49818815e-06 -2.89811541e-05 -2.22965439e-05\n",
      "  -1.24597158e-05 -2.50972978e-05 -3.81798651e-05 -3.74968464e-05\n",
      "  -3.72907284e-05 -3.14322396e-05 -3.94970107e-05 -4.35147389e-05\n",
      "  -6.22463562e-05 -5.69125552e-05 -6.73920563e-05 -8.09362452e-05\n",
      "  -1.17154480e-04 -1.14997065e-04]]\n"
     ]
    }
   ],
   "source": [
    "print(modelLR_jupyter.coef_)"
   ]
  },
  {
   "cell_type": "code",
   "execution_count": 34,
   "metadata": {},
   "outputs": [
    {
     "name": "stdout",
     "output_type": "stream",
     "text": [
      "Train accuracy: 0.6197544338335607\n",
      "Test accuracy: 0.6157084302647613\n"
     ]
    }
   ],
   "source": [
    "print(\"Train accuracy:\", modelLR_jupyter.score(x_train_pad, y_train))\n",
    "print(\"Test accuracy:\", modelLR_jupyter.score(x_test_pad, y_test)) "
   ]
  },
  {
   "cell_type": "code",
   "execution_count": 35,
   "metadata": {},
   "outputs": [],
   "source": [
    "pkl_LR_jupyter_filename = \"pickleLR_jupyter_model.pkl\"  \n",
    "with open(pkl_LR_jupyter_filename, 'wb') as file:  \n",
    "    pickle.dump(modelLR_jupyter, file)"
   ]
  },
  {
   "cell_type": "code",
   "execution_count": 36,
   "metadata": {},
   "outputs": [],
   "source": [
    "with open(pkl_LR_jupyter_filename, 'rb') as file:  \n",
    "    pickleLR_jupyter_model = pickle.load(file)"
   ]
  },
  {
   "cell_type": "code",
   "execution_count": 37,
   "metadata": {},
   "outputs": [
    {
     "name": "stdout",
     "output_type": "stream",
     "text": [
      "Test accuracy: 0.6157084302647613\n"
     ]
    }
   ],
   "source": [
    "print(\"Test accuracy:\", pickleLR_jupyter_model.score(x_test_pad, y_test))"
   ]
  },
  {
   "cell_type": "code",
   "execution_count": 38,
   "metadata": {},
   "outputs": [
    {
     "data": {
      "text/plain": [
       "MultinomialNB(alpha=1.0, class_prior=None, fit_prior=True)"
      ]
     },
     "execution_count": 38,
     "metadata": {},
     "output_type": "execute_result"
    }
   ],
   "source": [
    "modelMB_jupyter = MultinomialNB(alpha=1.0, class_prior=None, fit_prior=True)\n",
    "modelMB_jupyter.fit(x_train_pad, y_train)\n",
    "MultinomialNB(alpha=1.0, class_prior=None, fit_prior=True)"
   ]
  },
  {
   "cell_type": "code",
   "execution_count": 39,
   "metadata": {},
   "outputs": [
    {
     "name": "stdout",
     "output_type": "stream",
     "text": [
      "Eğitim accuracy: 0.5025920873124148\n",
      "Test accuracy: 0.5027140799822754\n"
     ]
    }
   ],
   "source": [
    "print(\"Eğitim accuracy:\", modelMB_jupyter.score(x_train_pad, y_train))\n",
    "print(\"Test accuracy:\", modelMB_jupyter.score(x_test_pad, y_test))"
   ]
  },
  {
   "cell_type": "code",
   "execution_count": 40,
   "metadata": {},
   "outputs": [],
   "source": [
    "pkl_MB_jupyter_filename = \"pickleMB_jupyter_model.pkl\"  \n",
    "with open(pkl_MB_jupyter_filename, 'wb') as file:  \n",
    "    pickle.dump(modelMB_jupyter, file)"
   ]
  },
  {
   "cell_type": "code",
   "execution_count": 41,
   "metadata": {},
   "outputs": [],
   "source": [
    "with open(pkl_MB_jupyter_filename, 'rb') as file:  \n",
    "    pickleMB_jupyter_model = pickle.load(file)\n"
   ]
  },
  {
   "cell_type": "code",
   "execution_count": 42,
   "metadata": {},
   "outputs": [
    {
     "name": "stdout",
     "output_type": "stream",
     "text": [
      "Test accuracy: 0.5027140799822754\n"
     ]
    }
   ],
   "source": [
    "print(\"Test accuracy:\", pickleMB_jupyter_model.score(x_test_pad, y_test))"
   ]
  },
  {
   "cell_type": "code",
   "execution_count": 44,
   "metadata": {},
   "outputs": [
    {
     "name": "stdout",
     "output_type": "stream",
     "text": [
      "Saved GRU model to disk\n"
     ]
    }
   ],
   "source": [
    "modelGRU_jupyter_json = modelG_jupyter.to_json()\n",
    "with open(\"modelGRU_jupyter.json\", \"w\") as json_file:\n",
    "    json_file.write(modelGRU_jupyter_json)\n",
    "    \n",
    "# serialize weights to HDF5\n",
    "modelG_jupyter.save_weights(\"modelGRU_jupyter.h5\")\n",
    "print(\"Saved GRU model to disk\")\n"
   ]
  },
  {
   "cell_type": "code",
   "execution_count": 45,
   "metadata": {},
   "outputs": [
    {
     "name": "stdout",
     "output_type": "stream",
     "text": [
      "Loaded model GRU from disk\n"
     ]
    }
   ],
   "source": [
    "jsonGRU_file = open('modelGRU_jupyter.json', 'r')\n",
    "loaded_modelGRU_jupyter_json = jsonGRU_file.read()\n",
    "jsonGRU_file.close()\n",
    "loaded_modelGRU_jupyter = model_from_json(loaded_modelGRU_jupyter_json)\n",
    "# load weights into new model\n",
    "loaded_modelGRU_jupyter.load_weights(\"modelGRU_jupyter.h5\")\n",
    "print(\"Loaded model GRU from disk\")"
   ]
  },
  {
   "cell_type": "code",
   "execution_count": 56,
   "metadata": {},
   "outputs": [
    {
     "name": "stdout",
     "output_type": "stream",
     "text": [
      "Saved LSTM model to disk\n"
     ]
    }
   ],
   "source": [
    "modelLSTM_jupyter_json = modelLSTM_jupyter.to_json()\n",
    "with open(\"modelLSTM_jupyter.json\", \"w\") as json_file:\n",
    "    json_file.write(modelLSTM_jupyter_json)\n",
    "    \n",
    "# serialize weights to HDF5\n",
    "modelLSTM_jupyter.save_weights(\"modelLSTM_jupyter.h5\")\n",
    "print(\"Saved LSTM model to disk\")"
   ]
  },
  {
   "cell_type": "code",
   "execution_count": 57,
   "metadata": {},
   "outputs": [
    {
     "name": "stdout",
     "output_type": "stream",
     "text": [
      "Loaded model LSTM from disk\n"
     ]
    }
   ],
   "source": [
    "jsonLSTM_file = open('modelLSTM_jupyter.json', 'r')\n",
    "loaded_modelLSTM_jupyter_json = jsonLSTM_file.read()\n",
    "jsonLSTM_file.close()\n",
    "loaded_modelLSTM_jupyter = model_from_json(loaded_modelLSTM_jupyter_json)\n",
    "\n",
    "# load weights into new model\n",
    "loaded_modelLSTM_jupyter.load_weights(\"modelLSTM_jupyter.h5\")\n",
    "print(\"Loaded model LSTM from disk\")"
   ]
  },
  {
   "cell_type": "code",
   "execution_count": 58,
   "metadata": {},
   "outputs": [
    {
     "name": "stdout",
     "output_type": "stream",
     "text": [
      "9027/9027 [==============================] - 25s 3ms/step\n"
     ]
    }
   ],
   "source": [
    "loaded_modelGRU_jupyter.compile(loss='binary_crossentropy', optimizer=optimizer, metrics=['accuracy'])\n",
    "scoreGRU_jupyter = loaded_modelGRU_jupyter.evaluate(x_test_pad, y_test)"
   ]
  },
  {
   "cell_type": "code",
   "execution_count": 59,
   "metadata": {},
   "outputs": [
    {
     "name": "stdout",
     "output_type": "stream",
     "text": [
      "9027/9027 [==============================] - 31s 3ms/step\n"
     ]
    }
   ],
   "source": [
    "loaded_modelLSTM_jupyter.compile(loss='binary_crossentropy', optimizer=optimizer, metrics=['accuracy'])\n",
    "scoreLSTM_jupyter = loaded_modelLSTM_jupyter.evaluate(x_test_pad, y_test)"
   ]
  },
  {
   "cell_type": "code",
   "execution_count": 60,
   "metadata": {},
   "outputs": [
    {
     "data": {
      "text/plain": [
       "(0.3043602943144738, 0.8851224105461394)"
      ]
     },
     "execution_count": 60,
     "metadata": {},
     "output_type": "execute_result"
    }
   ],
   "source": [
    "scoreGRU_jupyter[0] , scoreGRU_jupyter[1]"
   ]
  },
  {
   "cell_type": "code",
   "execution_count": 61,
   "metadata": {},
   "outputs": [
    {
     "data": {
      "text/plain": [
       "(0.379329703166343, 0.8491193087404453)"
      ]
     },
     "execution_count": 61,
     "metadata": {},
     "output_type": "execute_result"
    }
   ],
   "source": [
    "scoreLSTM_jupyter[0] , scoreLSTM_jupyter[1]"
   ]
  },
  {
   "cell_type": "code",
   "execution_count": 70,
   "metadata": {},
   "outputs": [],
   "source": [
    "text1 = \" fiyat ve performans açısından avantajlı bir ürün, tavsiye ederim.\"\n",
    "#text2 = \"...\"\n",
    "texts = [text1]"
   ]
  },
  {
   "cell_type": "code",
   "execution_count": 72,
   "metadata": {},
   "outputs": [
    {
     "data": {
      "text/plain": [
       "(1, 66)"
      ]
     },
     "execution_count": 72,
     "metadata": {},
     "output_type": "execute_result"
    }
   ],
   "source": [
    "tokens = tokenizer.texts_to_sequences(texts)\n",
    "tokens_pad = pad_sequences(tokens, maxlen=max_tokens)\n",
    "tokens_pad.shape"
   ]
  },
  {
   "cell_type": "code",
   "execution_count": 75,
   "metadata": {},
   "outputs": [
    {
     "data": {
      "text/plain": [
       "array([[0.93446]], dtype=float32)"
      ]
     },
     "execution_count": 75,
     "metadata": {},
     "output_type": "execute_result"
    }
   ],
   "source": [
    "\n",
    "modelG_jupyter.predict(tokens_pad)\n",
    "\n"
   ]
  },
  {
   "cell_type": "code",
   "execution_count": 76,
   "metadata": {},
   "outputs": [
    {
     "data": {
      "text/plain": [
       "array([[0.93446]], dtype=float32)"
      ]
     },
     "execution_count": 76,
     "metadata": {},
     "output_type": "execute_result"
    }
   ],
   "source": [
    "\n",
    "\n",
    "\n",
    "loaded_modelGRU_jupyter.predict(tokens_pad)\n"
   ]
  },
  {
   "cell_type": "code",
   "execution_count": 77,
   "metadata": {},
   "outputs": [
    {
     "data": {
      "text/plain": [
       "array([[0.7805225]], dtype=float32)"
      ]
     },
     "execution_count": 77,
     "metadata": {},
     "output_type": "execute_result"
    }
   ],
   "source": [
    "\n",
    "modelLSTM_jupyter.predict(tokens_pad)\n",
    "\n",
    "\n"
   ]
  },
  {
   "cell_type": "code",
   "execution_count": 78,
   "metadata": {},
   "outputs": [
    {
     "data": {
      "text/plain": [
       "array([[0.7805225]], dtype=float32)"
      ]
     },
     "execution_count": 78,
     "metadata": {},
     "output_type": "execute_result"
    }
   ],
   "source": [
    "\n",
    "loaded_modelLSTM_jupyter.predict(tokens_pad)\n"
   ]
  },
  {
   "cell_type": "code",
   "execution_count": 79,
   "metadata": {},
   "outputs": [
    {
     "data": {
      "text/plain": [
       "array([1], dtype=int64)"
      ]
     },
     "execution_count": 79,
     "metadata": {},
     "output_type": "execute_result"
    }
   ],
   "source": [
    "\n",
    "modelLR_jupyter.predict(tokens_pad)\n"
   ]
  },
  {
   "cell_type": "code",
   "execution_count": 80,
   "metadata": {},
   "outputs": [
    {
     "data": {
      "text/plain": [
       "array([1], dtype=int64)"
      ]
     },
     "execution_count": 80,
     "metadata": {},
     "output_type": "execute_result"
    }
   ],
   "source": [
    "pickleLR_jupyter_model.predict(tokens_pad)"
   ]
  },
  {
   "cell_type": "code",
   "execution_count": 83,
   "metadata": {},
   "outputs": [
    {
     "data": {
      "text/plain": [
       "array([0], dtype=int64)"
      ]
     },
     "execution_count": 83,
     "metadata": {},
     "output_type": "execute_result"
    }
   ],
   "source": [
    "modelMB_jupyter.predict(tokens_pad)\n"
   ]
  },
  {
   "cell_type": "code",
   "execution_count": 84,
   "metadata": {},
   "outputs": [
    {
     "data": {
      "text/plain": [
       "array([0], dtype=int64)"
      ]
     },
     "execution_count": 84,
     "metadata": {},
     "output_type": "execute_result"
    }
   ],
   "source": [
    "pickleMB_jupyter_model.predict(tokens_pad)"
   ]
  },
  {
   "cell_type": "code",
   "execution_count": 85,
   "metadata": {},
   "outputs": [],
   "source": [
    "sonucilk = (modelG_jupyter.predict(tokens_pad) + modelLSTM_jupyter.predict(tokens_pad) + modelLR_jupyter.predict(tokens_pad) + modelMB_jupyter.predict(tokens_pad)) / 4\n",
    " \n",
    "# In[]:\n",
    "\n",
    "sonuc_yeni = (loaded_modelGRU_jupyter.predict(tokens_pad) + loaded_modelLSTM_jupyter.predict(tokens_pad) + pickleLR_jupyter_model.predict(tokens_pad) + pickleMB_jupyter_model.predict(tokens_pad)) / 4"
   ]
  },
  {
   "cell_type": "code",
   "execution_count": 86,
   "metadata": {},
   "outputs": [
    {
     "data": {
      "text/plain": [
       "array([[0.67874563]])"
      ]
     },
     "execution_count": 86,
     "metadata": {},
     "output_type": "execute_result"
    }
   ],
   "source": [
    "sonucilk \n"
   ]
  },
  {
   "cell_type": "code",
   "execution_count": 87,
   "metadata": {},
   "outputs": [
    {
     "data": {
      "text/plain": [
       "array([[0.67874563]])"
      ]
     },
     "execution_count": 87,
     "metadata": {},
     "output_type": "execute_result"
    }
   ],
   "source": [
    "\n",
    "sonuc_yeni"
   ]
  },
  {
   "cell_type": "code",
   "execution_count": null,
   "metadata": {},
   "outputs": [],
   "source": []
  }
 ],
 "metadata": {
  "kernelspec": {
   "display_name": "Python 3",
   "language": "python",
   "name": "python3"
  },
  "language_info": {
   "codemirror_mode": {
    "name": "ipython",
    "version": 3
   },
   "file_extension": ".py",
   "mimetype": "text/x-python",
   "name": "python",
   "nbconvert_exporter": "python",
   "pygments_lexer": "ipython3",
   "version": "3.5.5"
  }
 },
 "nbformat": 4,
 "nbformat_minor": 2
}
